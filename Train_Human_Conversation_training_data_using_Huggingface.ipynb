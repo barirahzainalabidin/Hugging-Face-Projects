{
  "nbformat": 4,
  "nbformat_minor": 0,
  "metadata": {
    "colab": {
      "provenance": []
    },
    "kernelspec": {
      "name": "python3",
      "display_name": "Python 3"
    },
    "language_info": {
      "name": "python"
    }
  },
  "cells": [
    {
      "cell_type": "markdown",
      "source": [
        "Model : consciousAI/question-answering-roberta-base-s-v2"
      ],
      "metadata": {
        "id": "IO-Ly4BF4B3C"
      }
    },
    {
      "cell_type": "code",
      "execution_count": 1,
      "metadata": {
        "colab": {
          "base_uri": "https://localhost:8080/"
        },
        "id": "DwQrKQkqxIqU",
        "outputId": "c2489908-802a-4898-f527-0064a34ebed1"
      },
      "outputs": [
        {
          "output_type": "stream",
          "name": "stdout",
          "text": [
            "Requirement already satisfied: transformers in /usr/local/lib/python3.10/dist-packages (4.40.0)\n",
            "Requirement already satisfied: filelock in /usr/local/lib/python3.10/dist-packages (from transformers) (3.13.4)\n",
            "Requirement already satisfied: huggingface-hub<1.0,>=0.19.3 in /usr/local/lib/python3.10/dist-packages (from transformers) (0.20.3)\n",
            "Requirement already satisfied: numpy>=1.17 in /usr/local/lib/python3.10/dist-packages (from transformers) (1.25.2)\n",
            "Requirement already satisfied: packaging>=20.0 in /usr/local/lib/python3.10/dist-packages (from transformers) (24.0)\n",
            "Requirement already satisfied: pyyaml>=5.1 in /usr/local/lib/python3.10/dist-packages (from transformers) (6.0.1)\n",
            "Requirement already satisfied: regex!=2019.12.17 in /usr/local/lib/python3.10/dist-packages (from transformers) (2023.12.25)\n",
            "Requirement already satisfied: requests in /usr/local/lib/python3.10/dist-packages (from transformers) (2.31.0)\n",
            "Requirement already satisfied: tokenizers<0.20,>=0.19 in /usr/local/lib/python3.10/dist-packages (from transformers) (0.19.1)\n",
            "Requirement already satisfied: safetensors>=0.4.1 in /usr/local/lib/python3.10/dist-packages (from transformers) (0.4.3)\n",
            "Requirement already satisfied: tqdm>=4.27 in /usr/local/lib/python3.10/dist-packages (from transformers) (4.66.2)\n",
            "Requirement already satisfied: fsspec>=2023.5.0 in /usr/local/lib/python3.10/dist-packages (from huggingface-hub<1.0,>=0.19.3->transformers) (2023.6.0)\n",
            "Requirement already satisfied: typing-extensions>=3.7.4.3 in /usr/local/lib/python3.10/dist-packages (from huggingface-hub<1.0,>=0.19.3->transformers) (4.11.0)\n",
            "Requirement already satisfied: charset-normalizer<4,>=2 in /usr/local/lib/python3.10/dist-packages (from requests->transformers) (3.3.2)\n",
            "Requirement already satisfied: idna<4,>=2.5 in /usr/local/lib/python3.10/dist-packages (from requests->transformers) (3.7)\n",
            "Requirement already satisfied: urllib3<3,>=1.21.1 in /usr/local/lib/python3.10/dist-packages (from requests->transformers) (2.0.7)\n",
            "Requirement already satisfied: certifi>=2017.4.17 in /usr/local/lib/python3.10/dist-packages (from requests->transformers) (2024.2.2)\n"
          ]
        }
      ],
      "source": [
        "!pip install transformers"
      ]
    },
    {
      "cell_type": "code",
      "source": [
        "!pip install huggingface"
      ],
      "metadata": {
        "colab": {
          "base_uri": "https://localhost:8080/"
        },
        "id": "jTujbwZQ39Rp",
        "outputId": "a473fba9-dc35-45ce-fe1d-3e893f05e4ab"
      },
      "execution_count": 2,
      "outputs": [
        {
          "output_type": "stream",
          "name": "stdout",
          "text": [
            "Collecting huggingface\n",
            "  Downloading huggingface-0.0.1-py3-none-any.whl (2.5 kB)\n",
            "Installing collected packages: huggingface\n",
            "Successfully installed huggingface-0.0.1\n"
          ]
        }
      ]
    },
    {
      "cell_type": "code",
      "source": [
        "from transformers import pipeline\n",
        "\n",
        "qa_model = pipeline(\"question-answering\", model=\"consciousAI/question-answering-roberta-base-s-v2\")\n",
        "question = \"Hi!\"\n",
        "context = \"Hi!\"\n",
        "qa_model(question=question, context=context)"
      ],
      "metadata": {
        "colab": {
          "base_uri": "https://localhost:8080/"
        },
        "id": "2vqn7s_M5N3B",
        "outputId": "59b91456-4b8b-4a71-bf19-1ab0aeb19773"
      },
      "execution_count": 59,
      "outputs": [
        {
          "output_type": "execute_result",
          "data": {
            "text/plain": [
              "{'score': 0.00017145262972917408, 'start': 0, 'end': 2, 'answer': 'Hi'}"
            ]
          },
          "metadata": {},
          "execution_count": 59
        }
      ]
    },
    {
      "cell_type": "code",
      "source": [
        "from transformers import pipeline\n",
        "\n",
        "qa_model = pipeline(\"question-answering\", model=\"consciousAI/question-answering-roberta-base-s-v2\")\n",
        "question = \"What is your favorite holiday?\"\n",
        "context = \"Christmas\"\n",
        "qa_model(question=question, context=context)"
      ],
      "metadata": {
        "colab": {
          "base_uri": "https://localhost:8080/"
        },
        "id": "DOIkIE8y4Qxk",
        "outputId": "5ae7c964-9a80-4063-80ba-e4a5390fc5ad"
      },
      "execution_count": 61,
      "outputs": [
        {
          "output_type": "execute_result",
          "data": {
            "text/plain": [
              "{'score': 0.9897555708885193, 'start': 0, 'end': 9, 'answer': 'Christmas'}"
            ]
          },
          "metadata": {},
          "execution_count": 61
        }
      ]
    },
    {
      "cell_type": "code",
      "source": [
        "from transformers import pipeline\n",
        "\n",
        "qa_model = pipeline(\"question-answering\", model=\"consciousAI/question-answering-roberta-base-s-v2\")\n",
        "question = \"What was the most number of people you have ever met during a holiday?\"\n",
        "context = \"Hard to keep a count. Maybe 25.\"\n",
        "qa_model(question=question, context=context)"
      ],
      "metadata": {
        "colab": {
          "base_uri": "https://localhost:8080/"
        },
        "id": "QDbT4j8a5dxS",
        "outputId": "442ec864-374c-4fd2-9b52-ec15e9dfdcc0"
      },
      "execution_count": 62,
      "outputs": [
        {
          "output_type": "execute_result",
          "data": {
            "text/plain": [
              "{'score': 0.9362910985946655, 'start': 28, 'end': 30, 'answer': '25'}"
            ]
          },
          "metadata": {},
          "execution_count": 62
        }
      ]
    },
    {
      "cell_type": "code",
      "source": [
        "from transformers import pipeline\n",
        "\n",
        "qa_model = pipeline(\"question-answering\", model=\"consciousAI/question-answering-roberta-base-s-v2\")\n",
        "question = \"Any plans for the weekend?\"\n",
        "context = \"My friends are gonna visit me this weekend. we might go hiking!\"\n",
        "qa_model(question=question, context=context)"
      ],
      "metadata": {
        "colab": {
          "base_uri": "https://localhost:8080/"
        },
        "id": "4fvS9e-p5q63",
        "outputId": "8d57c6b5-0821-4a1c-eeb0-f07fd6cbb44c"
      },
      "execution_count": 63,
      "outputs": [
        {
          "output_type": "execute_result",
          "data": {
            "text/plain": [
              "{'score': 0.4815247654914856,\n",
              " 'start': 44,\n",
              " 'end': 62,\n",
              " 'answer': 'we might go hiking'}"
            ]
          },
          "metadata": {},
          "execution_count": 63
        }
      ]
    },
    {
      "cell_type": "code",
      "source": [
        "from transformers import pipeline\n",
        "\n",
        "qa_model = pipeline(\"question-answering\", model=\"consciousAI/question-answering-roberta-base-s-v2\")\n",
        "question = \"Nice, where is that place? I haven't been there\"\n",
        "context = \"Hours drive from here. still in bay area\"\n",
        "qa_model(question=question, context=context)"
      ],
      "metadata": {
        "colab": {
          "base_uri": "https://localhost:8080/"
        },
        "id": "US4dMORb6IQs",
        "outputId": "8869cedb-13c6-4d3e-f61c-b619da5fe2f7"
      },
      "execution_count": 64,
      "outputs": [
        {
          "output_type": "execute_result",
          "data": {
            "text/plain": [
              "{'score': 0.07570195198059082, 'start': 32, 'end': 40, 'answer': 'bay area'}"
            ]
          },
          "metadata": {},
          "execution_count": 64
        }
      ]
    },
    {
      "cell_type": "code",
      "source": [
        "from transformers import pipeline\n",
        "\n",
        "qa_model = pipeline(\"question-answering\", model=\"consciousAI/question-answering-roberta-base-s-v2\")\n",
        "question = \"That's cool! How long is the hike?\"\n",
        "context = \"Actually no idea, but it will take the entire day for that.\"\n",
        "qa_model(question=question, context=context)"
      ],
      "metadata": {
        "colab": {
          "base_uri": "https://localhost:8080/"
        },
        "id": "n7BwduIq6S68",
        "outputId": "e39fcf2a-f965-4552-e20a-3b8894dc29f3"
      },
      "execution_count": 65,
      "outputs": [
        {
          "output_type": "execute_result",
          "data": {
            "text/plain": [
              "{'score': 0.8889223337173462, 'start': 9, 'end': 16, 'answer': 'no idea'}"
            ]
          },
          "metadata": {},
          "execution_count": 65
        }
      ]
    },
    {
      "cell_type": "code",
      "source": [
        "from transformers import pipeline\n",
        "\n",
        "qa_model = pipeline(\"question-answering\", model=\"consciousAI/question-answering-roberta-base-s-v2\")\n",
        "question = \"Oh really? Has a lot changed in your life recently?\"\n",
        "context = \"Haha it's probably too much to go into at the moment. Let's just say life is an exciting experience. Haha it's probably too much to go into at the moment. Let's just say life is an exciting experience.\"\n",
        "qa_model(question=question, context=context)"
      ],
      "metadata": {
        "colab": {
          "base_uri": "https://localhost:8080/"
        },
        "id": "-IP51ND8AEne",
        "outputId": "44772c4d-f8fb-442d-952b-c5bfc4442d3e"
      },
      "execution_count": 67,
      "outputs": [
        {
          "output_type": "execute_result",
          "data": {
            "text/plain": [
              "{'score': 0.04726831242442131,\n",
              " 'start': 10,\n",
              " 'end': 53,\n",
              " 'answer': 'probably too much to go into at the moment.'}"
            ]
          },
          "metadata": {},
          "execution_count": 67
        }
      ]
    },
    {
      "cell_type": "code",
      "source": [
        "from transformers import pipeline\n",
        "\n",
        "qa_model = pipeline(\"question-answering\", model=\"consciousAI/question-answering-roberta-base-s-v2\")\n",
        "question = \"How about you?\"\n",
        "context = \"Ahhh sounds exciting indeed! My life is pretty bland. I like routine, but sometimes I wish I had more time for adventures!\"\n",
        "qa_model(question=question, context=context)"
      ],
      "metadata": {
        "colab": {
          "base_uri": "https://localhost:8080/"
        },
        "id": "elgxazWrAFBa",
        "outputId": "f9624677-e220-432e-ea52-b613ded34537"
      },
      "execution_count": 68,
      "outputs": [
        {
          "output_type": "execute_result",
          "data": {
            "text/plain": [
              "{'score': 0.3830922245979309,\n",
              " 'start': 29,\n",
              " 'end': 52,\n",
              " 'answer': 'My life is pretty bland'}"
            ]
          },
          "metadata": {},
          "execution_count": 68
        }
      ]
    },
    {
      "cell_type": "code",
      "source": [
        "from transformers import pipeline\n",
        "\n",
        "qa_model = pipeline(\"question-answering\", model=\"consciousAI/question-answering-roberta-base-s-v2\")\n",
        "question = \"What kinds of adventures?? Any ones that I would be able to join you on?\"\n",
        "context = \" Hmmmm. I really want to try bull riding.\"\n",
        "qa_model(question=question, context=context)"
      ],
      "metadata": {
        "colab": {
          "base_uri": "https://localhost:8080/"
        },
        "id": "_1p8TWayAFOq",
        "outputId": "96b8f36d-70ab-4839-df47-13c3e308f74e"
      },
      "execution_count": 69,
      "outputs": [
        {
          "output_type": "execute_result",
          "data": {
            "text/plain": [
              "{'score': 1.125198991758225e-06,\n",
              " 'start': 29,\n",
              " 'end': 40,\n",
              " 'answer': 'bull riding'}"
            ]
          },
          "metadata": {},
          "execution_count": 69
        }
      ]
    },
    {
      "cell_type": "code",
      "source": [
        "from transformers import pipeline\n",
        "\n",
        "qa_model = pipeline(\"question-answering\", model=\"consciousAI/question-answering-roberta-base-s-v2\")\n",
        "question = \"Can we schedule something for next week?\"\n",
        "context = \"Sure!\"\n",
        "qa_model(question=question, context=context)"
      ],
      "metadata": {
        "colab": {
          "base_uri": "https://localhost:8080/"
        },
        "id": "7Uwils9aAFaH",
        "outputId": "46dd013a-ca70-48b3-ac99-0482caa8fd46"
      },
      "execution_count": 70,
      "outputs": [
        {
          "output_type": "execute_result",
          "data": {
            "text/plain": [
              "{'score': 0.1949538141489029, 'start': 0, 'end': 4, 'answer': 'Sure'}"
            ]
          },
          "metadata": {},
          "execution_count": 70
        }
      ]
    }
  ]
}