{
  "nbformat": 4,
  "nbformat_minor": 0,
  "metadata": {
    "colab": {
      "provenance": []
    },
    "kernelspec": {
      "name": "python3",
      "display_name": "Python 3"
    },
    "language_info": {
      "name": "python"
    }
  },
  "cells": [
    {
      "cell_type": "markdown",
      "source": [
        "Model : consciousAI/question-answering-roberta-base-s-v2"
      ],
      "metadata": {
        "id": "IO-Ly4BF4B3C"
      }
    },
    {
      "cell_type": "code",
      "execution_count": 1,
      "metadata": {
        "colab": {
          "base_uri": "https://localhost:8080/"
        },
        "id": "DwQrKQkqxIqU",
        "outputId": "c2489908-802a-4898-f527-0064a34ebed1"
      },
      "outputs": [
        {
          "output_type": "stream",
          "name": "stdout",
          "text": [
            "Requirement already satisfied: transformers in /usr/local/lib/python3.10/dist-packages (4.40.0)\n",
            "Requirement already satisfied: filelock in /usr/local/lib/python3.10/dist-packages (from transformers) (3.13.4)\n",
            "Requirement already satisfied: huggingface-hub<1.0,>=0.19.3 in /usr/local/lib/python3.10/dist-packages (from transformers) (0.20.3)\n",
            "Requirement already satisfied: numpy>=1.17 in /usr/local/lib/python3.10/dist-packages (from transformers) (1.25.2)\n",
            "Requirement already satisfied: packaging>=20.0 in /usr/local/lib/python3.10/dist-packages (from transformers) (24.0)\n",
            "Requirement already satisfied: pyyaml>=5.1 in /usr/local/lib/python3.10/dist-packages (from transformers) (6.0.1)\n",
            "Requirement already satisfied: regex!=2019.12.17 in /usr/local/lib/python3.10/dist-packages (from transformers) (2023.12.25)\n",
            "Requirement already satisfied: requests in /usr/local/lib/python3.10/dist-packages (from transformers) (2.31.0)\n",
            "Requirement already satisfied: tokenizers<0.20,>=0.19 in /usr/local/lib/python3.10/dist-packages (from transformers) (0.19.1)\n",
            "Requirement already satisfied: safetensors>=0.4.1 in /usr/local/lib/python3.10/dist-packages (from transformers) (0.4.3)\n",
            "Requirement already satisfied: tqdm>=4.27 in /usr/local/lib/python3.10/dist-packages (from transformers) (4.66.2)\n",
            "Requirement already satisfied: fsspec>=2023.5.0 in /usr/local/lib/python3.10/dist-packages (from huggingface-hub<1.0,>=0.19.3->transformers) (2023.6.0)\n",
            "Requirement already satisfied: typing-extensions>=3.7.4.3 in /usr/local/lib/python3.10/dist-packages (from huggingface-hub<1.0,>=0.19.3->transformers) (4.11.0)\n",
            "Requirement already satisfied: charset-normalizer<4,>=2 in /usr/local/lib/python3.10/dist-packages (from requests->transformers) (3.3.2)\n",
            "Requirement already satisfied: idna<4,>=2.5 in /usr/local/lib/python3.10/dist-packages (from requests->transformers) (3.7)\n",
            "Requirement already satisfied: urllib3<3,>=1.21.1 in /usr/local/lib/python3.10/dist-packages (from requests->transformers) (2.0.7)\n",
            "Requirement already satisfied: certifi>=2017.4.17 in /usr/local/lib/python3.10/dist-packages (from requests->transformers) (2024.2.2)\n"
          ]
        }
      ],
      "source": [
        "!pip install transformers"
      ]
    },
    {
      "cell_type": "code",
      "source": [
        "!pip install huggingface"
      ],
      "metadata": {
        "colab": {
          "base_uri": "https://localhost:8080/"
        },
        "id": "jTujbwZQ39Rp",
        "outputId": "a473fba9-dc35-45ce-fe1d-3e893f05e4ab"
      },
      "execution_count": 2,
      "outputs": [
        {
          "output_type": "stream",
          "name": "stdout",
          "text": [
            "Collecting huggingface\n",
            "  Downloading huggingface-0.0.1-py3-none-any.whl (2.5 kB)\n",
            "Installing collected packages: huggingface\n",
            "Successfully installed huggingface-0.0.1\n"
          ]
        }
      ]
    },
    {
      "cell_type": "code",
      "source": [
        "from transformers import pipeline\n",
        "\n",
        "qa_model = pipeline(\"question-answering\", model=\"consciousAI/question-answering-roberta-base-s-v2\")\n",
        "question = \"hi, how are you doing?\"\n",
        "context = \"Fine!\"\n",
        "qa_model(question=question, context=context)"
      ],
      "metadata": {
        "colab": {
          "base_uri": "https://localhost:8080/"
        },
        "id": "2vqn7s_M5N3B",
        "outputId": "500c38e1-7356-4479-a60a-5c5a6d2b2760"
      },
      "execution_count": 71,
      "outputs": [
        {
          "output_type": "execute_result",
          "data": {
            "text/plain": [
              "{'score': 0.5575144290924072, 'start': 0, 'end': 5, 'answer': 'Fine!'}"
            ]
          },
          "metadata": {},
          "execution_count": 71
        }
      ]
    },
    {
      "cell_type": "code",
      "source": [
        "from transformers import pipeline\n",
        "\n",
        "qa_model = pipeline(\"question-answering\", model=\"consciousAI/question-answering-roberta-base-s-v2\")\n",
        "question = \"How about yourself?\"\n",
        "context = \"I'm pretty good. Thanks for asking.\"\n",
        "qa_model(question=question, context=context)"
      ],
      "metadata": {
        "colab": {
          "base_uri": "https://localhost:8080/"
        },
        "id": "DOIkIE8y4Qxk",
        "outputId": "a9c3bb80-2960-4194-fcb3-9fdec6d9179a"
      },
      "execution_count": 72,
      "outputs": [
        {
          "output_type": "execute_result",
          "data": {
            "text/plain": [
              "{'score': 0.6957947015762329, 'start': 4, 'end': 15, 'answer': 'pretty good'}"
            ]
          },
          "metadata": {},
          "execution_count": 72
        }
      ]
    },
    {
      "cell_type": "code",
      "source": [
        "from transformers import pipeline\n",
        "\n",
        "qa_model = pipeline(\"question-answering\", model=\"consciousAI/question-answering-roberta-base-s-v2\")\n",
        "question = \"Thanks for asking.\"\n",
        "context = \"No problem\"\n",
        "qa_model(question=question, context=context)"
      ],
      "metadata": {
        "colab": {
          "base_uri": "https://localhost:8080/"
        },
        "id": "QDbT4j8a5dxS",
        "outputId": "0e21a16c-883d-4975-8216-6c4ed7dbb514"
      },
      "execution_count": 73,
      "outputs": [
        {
          "output_type": "execute_result",
          "data": {
            "text/plain": [
              "{'score': 0.08618561178445816, 'start': 0, 'end': 10, 'answer': 'No problem'}"
            ]
          },
          "metadata": {},
          "execution_count": 73
        }
      ]
    },
    {
      "cell_type": "code",
      "source": [
        "from transformers import pipeline\n",
        "\n",
        "qa_model = pipeline(\"question-answering\", model=\"consciousAI/question-answering-roberta-base-s-v2\")\n",
        "question = \"How have you been?\"\n",
        "context = \"I've been great.\"\n",
        "qa_model(question=question, context=context)"
      ],
      "metadata": {
        "colab": {
          "base_uri": "https://localhost:8080/"
        },
        "id": "4fvS9e-p5q63",
        "outputId": "b1f620b1-2791-412e-9d8e-2cc844ec3cb8"
      },
      "execution_count": 74,
      "outputs": [
        {
          "output_type": "execute_result",
          "data": {
            "text/plain": [
              "{'score': 0.7515132427215576, 'start': 10, 'end': 15, 'answer': 'great'}"
            ]
          },
          "metadata": {},
          "execution_count": 74
        }
      ]
    },
    {
      "cell_type": "code",
      "source": [
        "from transformers import pipeline\n",
        "\n",
        "qa_model = pipeline(\"question-answering\", model=\"consciousAI/question-answering-roberta-base-s-v2\")\n",
        "question = \"What about you?\"\n",
        "context = \"I've been good. I'm in school right now.\"\n",
        "qa_model(question=question, context=context)"
      ],
      "metadata": {
        "colab": {
          "base_uri": "https://localhost:8080/"
        },
        "id": "US4dMORb6IQs",
        "outputId": "c14424fa-00f0-4c9f-89da-c77527455ac3"
      },
      "execution_count": 75,
      "outputs": [
        {
          "output_type": "execute_result",
          "data": {
            "text/plain": [
              "{'score': 0.1180020123720169,\n",
              " 'start': 0,\n",
              " 'end': 15,\n",
              " 'answer': \"I've been good.\"}"
            ]
          },
          "metadata": {},
          "execution_count": 75
        }
      ]
    },
    {
      "cell_type": "code",
      "source": [
        "from transformers import pipeline\n",
        "\n",
        "qa_model = pipeline(\"question-answering\", model=\"consciousAI/question-answering-roberta-base-s-v2\")\n",
        "question = \"Do you like it there?\"\n",
        "context = \"It's okay. It's a really big campus.\"\n",
        "qa_model(question=question, context=context)"
      ],
      "metadata": {
        "colab": {
          "base_uri": "https://localhost:8080/"
        },
        "id": "n7BwduIq6S68",
        "outputId": "74d05f95-ff37-4fae-f8c5-3f7f68b3833c"
      },
      "execution_count": 76,
      "outputs": [
        {
          "output_type": "execute_result",
          "data": {
            "text/plain": [
              "{'score': 0.6316808462142944, 'start': 0, 'end': 9, 'answer': \"It's okay\"}"
            ]
          },
          "metadata": {},
          "execution_count": 76
        }
      ]
    },
    {
      "cell_type": "code",
      "source": [
        "from transformers import pipeline\n",
        "\n",
        "qa_model = pipeline(\"question-answering\", model=\"consciousAI/question-answering-roberta-base-s-v2\")\n",
        "question = \"Are you enjoying it there?\"\n",
        "context = \"I'm doing well.\"\n",
        "qa_model(question=question, context=context)"
      ],
      "metadata": {
        "colab": {
          "base_uri": "https://localhost:8080/"
        },
        "id": "-IP51ND8AEne",
        "outputId": "a4f4ade1-b090-4396-a723-eb04a9e4af12"
      },
      "execution_count": 77,
      "outputs": [
        {
          "output_type": "execute_result",
          "data": {
            "text/plain": [
              "{'score': 0.4679718613624573, 'start': 4, 'end': 15, 'answer': 'doing well.'}"
            ]
          },
          "metadata": {},
          "execution_count": 77
        }
      ]
    },
    {
      "cell_type": "code",
      "source": [
        "from transformers import pipeline\n",
        "\n",
        "qa_model = pipeline(\"question-answering\", model=\"consciousAI/question-answering-roberta-base-s-v2\")\n",
        "question = \"How about you?\"\n",
        "context = \"It's not bad. there are a lot of people there.\"\n",
        "qa_model(question=question, context=context)"
      ],
      "metadata": {
        "colab": {
          "base_uri": "https://localhost:8080/"
        },
        "id": "elgxazWrAFBa",
        "outputId": "58af32a8-ad55-4a29-9724-73f83f4392a3"
      },
      "execution_count": 78,
      "outputs": [
        {
          "output_type": "execute_result",
          "data": {
            "text/plain": [
              "{'score': 0.5610634088516235, 'start': 0, 'end': 12, 'answer': \"It's not bad\"}"
            ]
          },
          "metadata": {},
          "execution_count": 78
        }
      ]
    },
    {
      "cell_type": "code",
      "source": [
        "from transformers import pipeline\n",
        "\n",
        "qa_model = pipeline(\"question-answering\", model=\"consciousAI/question-answering-roberta-base-s-v2\")\n",
        "question = \"Good luck with that.\"\n",
        "context = \"Thanks.\"\n",
        "qa_model(question=question, context=context)"
      ],
      "metadata": {
        "colab": {
          "base_uri": "https://localhost:8080/"
        },
        "id": "_1p8TWayAFOq",
        "outputId": "42c79727-eb50-4a04-d94e-f3a40d26c703"
      },
      "execution_count": 79,
      "outputs": [
        {
          "output_type": "execute_result",
          "data": {
            "text/plain": [
              "{'score': 0.024417882785201073, 'start': 0, 'end': 7, 'answer': 'Thanks.'}"
            ]
          },
          "metadata": {},
          "execution_count": 79
        }
      ]
    },
    {
      "cell_type": "code",
      "source": [
        "from transformers import pipeline\n",
        "\n",
        "qa_model = pipeline(\"question-answering\", model=\"consciousAI/question-answering-roberta-base-s-v2\")\n",
        "question = \"It's an ugly day today.\"\n",
        "context = \"I know. I think it may rain.\"\n",
        "qa_model(question=question, context=context)"
      ],
      "metadata": {
        "colab": {
          "base_uri": "https://localhost:8080/"
        },
        "id": "7Uwils9aAFaH",
        "outputId": "23091810-5c31-4e7c-f56a-93f38cdff04a"
      },
      "execution_count": 81,
      "outputs": [
        {
          "output_type": "execute_result",
          "data": {
            "text/plain": [
              "{'score': 0.10530900210142136,\n",
              " 'start': 8,\n",
              " 'end': 28,\n",
              " 'answer': 'I think it may rain.'}"
            ]
          },
          "metadata": {},
          "execution_count": 81
        }
      ]
    }
  ]
}